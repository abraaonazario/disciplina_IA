{
  "nbformat": 4,
  "nbformat_minor": 0,
  "metadata": {
    "colab": {
      "provenance": []
    },
    "kernelspec": {
      "name": "python3",
      "display_name": "Python 3"
    },
    "language_info": {
      "name": "python"
    }
  },
  "cells": [
    {
      "cell_type": "code",
      "execution_count": null,
      "metadata": {
        "colab": {
          "base_uri": "https://localhost:8080/"
        },
        "id": "o8dSovMD8Php",
        "outputId": "af415e1d-2acb-4c11-90fa-f6d3b125ab8d"
      },
      "outputs": [
        {
          "output_type": "stream",
          "name": "stdout",
          "text": [
            "\u001b[2K     \u001b[90m━━━━━━━━━━━━━━━━━━━━━━━━━━━━━━━━━━━━━━━\u001b[0m \u001b[32m568.2/568.2 MB\u001b[0m \u001b[31m2.3 MB/s\u001b[0m eta \u001b[36m0:00:00\u001b[0m\n",
            "\u001b[?25h\u001b[38;5;2m✔ Download and installation successful\u001b[0m\n",
            "You can now load the package via spacy.load('pt_core_news_lg')\n",
            "\u001b[38;5;3m⚠ Restart to reload dependencies\u001b[0m\n",
            "If you are in a Jupyter or Colab notebook, you may need to restart Python in\n",
            "order to load all the package's dependencies. You can do this by selecting the\n",
            "'Restart kernel' or 'Restart runtime' option.\n",
            "Ambiente configurado com sucesso.\n"
          ]
        }
      ],
      "source": [
        "# ==============================================================================\n",
        "# CÉLULA 1: INSTALAÇÃO, IMPORTAÇÕES E CONFIGURAÇÕES INICIAIS\n",
        "# ==============================================================================\n",
        "\n",
        "# --- Instalações de bibliotecas necessárias ---\n",
        "!pip install spacy pandas openpyxl -q\n",
        "!python -m spacy download pt_core_news_lg -q\n",
        "\n",
        "# --- Importações Essenciais ---\n",
        "import pandas as pd\n",
        "import numpy as np\n",
        "import re\n",
        "import spacy\n",
        "import matplotlib.pyplot as plt\n",
        "from sklearn.model_selection import train_test_split\n",
        "from sklearn.feature_extraction.text import TfidfVectorizer\n",
        "from sklearn.ensemble import RandomForestClassifier\n",
        "from sklearn.svm import SVC\n",
        "from sklearn.metrics import classification_report, accuracy_score, precision_score, recall_score, f1_score\n",
        "\n",
        "# --- Carregar o modelo de linguagem do spaCy ---\n",
        "# Usamos o 'pt_core_news_lg' (large) por ser mais preciso.\n",
        "try:\n",
        "    nlp = spacy.load('pt_core_news_lg')\n",
        "except OSError:\n",
        "    print(\"Modelo 'pt_core_news_lg' não encontrado. Baixando agora...\")\n",
        "    import subprocess\n",
        "    subprocess.run([\"python\", \"-m\", \"spacy\", \"download\", \"pt_core_news_lg\"])\n",
        "    nlp = spacy.load('pt_core_news_lg')\n",
        "\n",
        "print(\"Ambiente configurado com sucesso.\")"
      ]
    },
    {
      "cell_type": "code",
      "source": [
        "# ==============================================================================\n",
        "# CÉLULA 2: CARREGAMENTO E PREPARAÇÃO DOS DADOS DO DATALUTA\n",
        "# ==============================================================================\n",
        "\n",
        "# --- Carregamento do dataset diretamente do GitHub ---\n",
        "try:\n",
        "    # URL do arquivo Exemplo.xlsx no seu repositório\n",
        "    raw_url = \"https://raw.githubusercontent.com/abraaonazario/disciplina_IA/main/Exemplo.xlsx\"\n",
        "\n",
        "    print(f\"Carregando dados de: {raw_url}\")\n",
        "\n",
        "    # Carrega o arquivo Excel, definindo a terceira linha (índice 2) como cabeçalho\n",
        "    df = pd.read_excel(raw_url, header=2)\n",
        "\n",
        "    # Seleciona as colunas de interesse e renomeia\n",
        "    df = df[['Unnamed: 5', 'Unnamed: 24']].copy()\n",
        "    df.rename(columns={'Unnamed: 5': 'texto', 'Unnamed: 24': 'categoria_raw'}, inplace=True)\n",
        "\n",
        "    # Remove linhas onde o texto ou a categoria são nulos\n",
        "    df.dropna(subset=['texto', 'categoria_raw'], inplace=True)\n",
        "\n",
        "    # Processa a coluna de categoria para usar apenas o primeiro valor\n",
        "    df['categoria'] = df['categoria_raw'].astype(str).apply(lambda x: x.split(';')[0].strip())\n",
        "\n",
        "    print(\"Dados carregados e colunas processadas com sucesso.\")\n",
        "    print(f\"Total de registros a serem utilizados: {len(df)}\")\n",
        "\n",
        "except Exception as e:\n",
        "    print(f\"Ocorreu um erro ao carregar os dados: {e}\")\n",
        "    df = pd.DataFrame() # Cria um dataframe vazio para evitar erros subsequentes\n",
        "\n",
        "# --- Função de Pré-processamento com spaCy ---\n",
        "def preprocess_with_spacy(text):\n",
        "    doc = nlp(str(text).lower())\n",
        "    lemmas = [\n",
        "        token.lemma_ for token in doc\n",
        "        if not token.is_stop and not token.is_punct and not token.is_space\n",
        "    ]\n",
        "    return ' '.join(lemmas)\n",
        "\n",
        "if not df.empty:\n",
        "    print(\"\\nIniciando pré-processamento avançado com spaCy...\")\n",
        "    df['texto_limpo'] = df['texto'].apply(preprocess_with_spacy)\n",
        "    print(\"Pré-processamento concluído.\")\n",
        "\n",
        "    # --- Divisão em Treino e Teste ---\n",
        "    X = df['texto_limpo']\n",
        "    y = df['categoria']\n",
        "    X_train, X_test, y_train, y_test = train_test_split(X, y, test_size=0.3, random_state=42)\n",
        "\n",
        "    # --- Vetorização com TF-IDF ---\n",
        "    vectorizer = TfidfVectorizer(max_features=5000)\n",
        "    X_train_tfidf = vectorizer.fit_transform(X_train)\n",
        "    X_test_tfidf = vectorizer.transform(X_test)\n",
        "else:\n",
        "    print(\"Nenhum dado para processar.\")"
      ],
      "metadata": {
        "colab": {
          "base_uri": "https://localhost:8080/"
        },
        "id": "l2lglKBl9HhS",
        "outputId": "27216fb3-0076-463d-dfa6-eaa7534ae2c2"
      },
      "execution_count": null,
      "outputs": [
        {
          "output_type": "stream",
          "name": "stdout",
          "text": [
            "Carregando dados de: https://raw.githubusercontent.com/abraaonazario/disciplina_IA/main/Exemplo.xlsx\n",
            "Dados carregados e colunas processadas com sucesso.\n",
            "Total de registros a serem utilizados: 843\n",
            "\n",
            "Iniciando pré-processamento avançado com spaCy...\n",
            "Pré-processamento concluído.\n"
          ]
        }
      ]
    },
    {
      "cell_type": "code",
      "source": [
        "# ==============================================================================\n",
        "# CÉLULA 3: TREINAMENTO DOS MODELOS DE BASE (COMPONENTES DO CHyPS)\n",
        "# ==============================================================================\n",
        "\n",
        "# --- 1. Treinamento do Random Forest ---\n",
        "rf_model = RandomForestClassifier(n_estimators=100, random_state=42, class_weight='balanced')\n",
        "rf_model.fit(X_train_tfidf, y_train)\n",
        "print(\"Modelo Random Forest treinado com sucesso.\")\n",
        "\n",
        "# --- 2. Configuração do LLM (Simulação Realista) ---\n",
        "# SUBSTITUA ESTA FUNÇÃO PELA SUA CHAMADA DE API REAL A UM LLM\n",
        "def llm_classify_simulated(text):\n",
        "    text_lower = text.lower()\n",
        "    if \"terra\" in text_lower or \"territorio\" in text_lower or \"agrário\" in text_lower:\n",
        "        predicao = '15'\n",
        "        confianca = np.random.uniform(0.85, 0.98)\n",
        "    elif \"paz\" in text_lower or \"violencia\" in text_lower or \"conflito\" in text_lower:\n",
        "        predicao = '16'\n",
        "        confianca = np.random.uniform(0.85, 0.98)\n",
        "    elif \"educacao\" in text_lower or \"escola\" in text_lower:\n",
        "        predicao = '4'\n",
        "        confianca = np.random.uniform(0.85, 0.98)\n",
        "    else:\n",
        "        # Se nenhuma palavra-chave for encontrada, a confiança é baixa\n",
        "        predicao = 'NI'\n",
        "        confianca = np.random.uniform(0.10, 0.30)\n",
        "    return predicao, confianca\n",
        "\n",
        "print(\"Função de classificação com LLM (simulada e corrigida) pronta.\")"
      ],
      "metadata": {
        "colab": {
          "base_uri": "https://localhost:8080/"
        },
        "id": "0wjbt41w9Twt",
        "outputId": "a8320a77-fdbc-40cb-8e05-c844f53a68d4"
      },
      "execution_count": null,
      "outputs": [
        {
          "output_type": "stream",
          "name": "stdout",
          "text": [
            "Modelo Random Forest treinado com sucesso.\n",
            "Função de classificação com LLM (simulada e corrigida) pronta.\n"
          ]
        }
      ]
    },
    {
      "cell_type": "code",
      "source": [
        "# ==============================================================================\n",
        "# CÉLULA 4: DEFINIÇÃO DO ALGORITMO CHyPS\n",
        "# ==============================================================================\n",
        "\n",
        "def chyps_classify(texto_original, texto_limpo, rf_model, vectorizer, limiar_tau=10):\n",
        "    \"\"\"\n",
        "    Classificador Híbrido Ponderado para Dados Socioterritoriais (CHyPS).\n",
        "    Implementa a \"lógica de ponderação adaptativa\" descrita no resumo.\n",
        "    \"\"\"\n",
        "    # Predição do componente Random Forest\n",
        "    texto_tfidf = vectorizer.transform([texto_limpo])\n",
        "    rf_pred_proba = rf_model.predict_proba(texto_tfidf)\n",
        "    confianca_rf = np.max(rf_pred_proba)\n",
        "    predicao_rf = rf_model.classes_[np.argmax(rf_pred_proba)]\n",
        "\n",
        "    # Predição do componente LLM\n",
        "    predicao_llm, confianca_llm = llm_classify_simulated(texto_original)\n",
        "\n",
        "    # Lógica de Ponderação Dinâmica\n",
        "    comprimento_texto = len(texto_original.split())\n",
        "    if comprimento_texto > limiar_tau:\n",
        "        W_rf, W_llm = 0.3, 0.7  # Prioriza LLM para textos com mais semântica\n",
        "    else:\n",
        "        W_rf, W_llm = 0.7, 0.3  # Prioriza RF para textos curtos/estruturados\n",
        "\n",
        "    # Decisão Final baseada no escore ponderado\n",
        "    score_rf = confianca_rf * W_rf\n",
        "    score_llm = confianca_llm * W_llm\n",
        "    return predicao_llm if score_llm > score_rf else predicao_rf\n",
        "\n",
        "print(\"Algoritmo CHyPS definido com sucesso.\")"
      ],
      "metadata": {
        "colab": {
          "base_uri": "https://localhost:8080/"
        },
        "id": "s4g_IJSp9Wp_",
        "outputId": "e6be1b17-65c1-4c27-84cd-899ebdbed6d0"
      },
      "execution_count": null,
      "outputs": [
        {
          "output_type": "stream",
          "name": "stdout",
          "text": [
            "Algoritmo CHyPS definido com sucesso.\n"
          ]
        }
      ]
    },
    {
      "cell_type": "code",
      "source": [
        "# ==============================================================================\n",
        "# CÉLULA 5: AVALIAÇÃO DOS MODELOS E COLETA DE MÉTRICAS\n",
        "# ==============================================================================\n",
        "\n",
        "resultados = []\n",
        "average_type = 'weighted'\n",
        "\n",
        "# Avaliação do Random Forest (Baseline)\n",
        "y_pred_rf = rf_model.predict(X_test_tfidf)\n",
        "resultados.append({\n",
        "    'Modelo': 'Random Forest',\n",
        "    'Acurácia': accuracy_score(y_test, y_pred_rf),\n",
        "    'Precisão': precision_score(y_test, y_pred_rf, average=average_type, zero_division=0),\n",
        "    'Recall': recall_score(y_test, y_pred_rf, average=average_type, zero_division=0),\n",
        "    'F1-Score': f1_score(y_test, y_pred_rf, average=average_type, zero_division=0)\n",
        "})\n",
        "\n",
        "# Avaliação do CHyPS (Sua Proposta)\n",
        "# É necessário ter os textos originais para a lógica de ponderação\n",
        "X_test_original = df.loc[X_test.index, 'texto']\n",
        "y_pred_chyps = [chyps_classify(texto_original, texto_limpo, rf_model, vectorizer)\n",
        "                for texto_original, texto_limpo in zip(X_test_original, X_test)]\n",
        "resultados.append({\n",
        "    'Modelo': 'CHyPS',\n",
        "    'Acurácia': accuracy_score(y_test, y_pred_chyps),\n",
        "    'Precisão': precision_score(y_test, y_pred_chyps, average=average_type, zero_division=0),\n",
        "    'Recall': recall_score(y_test, y_pred_chyps, average=average_type, zero_division=0),\n",
        "    'F1-Score': f1_score(y_test, y_pred_chyps, average=average_type, zero_division=0)\n",
        "})\n",
        "\n",
        "# --- Transforma a lista de resultados em um DataFrame do Pandas ---\n",
        "resultados_df = pd.DataFrame(resultados).set_index('Modelo')\n",
        "print(\"--- Tabela Comparativa de Desempenho ---\")\n",
        "print(resultados_df)"
      ],
      "metadata": {
        "colab": {
          "base_uri": "https://localhost:8080/"
        },
        "id": "cg8U6lBy9ZiP",
        "outputId": "3cd6eb33-003b-40d4-89c2-0438e3e8fbdf"
      },
      "execution_count": null,
      "outputs": [
        {
          "output_type": "stream",
          "name": "stdout",
          "text": [
            "--- Tabela Comparativa de Desempenho ---\n",
            "               Acurácia  Precisão    Recall  F1-Score\n",
            "Modelo                                               \n",
            "Random Forest  0.454545  0.377136  0.454545  0.351617\n",
            "CHyPS          0.399209  0.445188  0.399209  0.352539\n"
          ]
        }
      ]
    },
    {
      "cell_type": "code",
      "source": [
        "# ==============================================================================\n",
        "# CÉLULA 6: GERAÇÃO DO GRÁFICO COMPARATIVO\n",
        "# ==============================================================================\n",
        "\n",
        "plt.style.use('seaborn-v0_8-whitegrid')\n",
        "ax = resultados_df.plot(\n",
        "    kind='bar',\n",
        "    figsize=(12, 7),\n",
        "    width=0.7,\n",
        "    colormap='viridis'\n",
        ")\n",
        "plt.title('Análise Comparativa de Desempenho: CHyPS vs. Baseline', fontsize=16, weight='bold')\n",
        "plt.ylabel('Pontuação', fontsize=12)\n",
        "plt.xlabel('Modelo', fontsize=12)\n",
        "plt.ylim(0, 1.1)\n",
        "plt.xticks(rotation=0, ha='center', fontsize=11)\n",
        "plt.legend(title='Métricas', fontsize=10)\n",
        "for p in ax.patches:\n",
        "    ax.annotate(f'{p.get_height():.3f}',\n",
        "                (p.get_x() + p.get_width() / 2., p.get_height()),\n",
        "                ha='center', va='center',\n",
        "                xytext=(0, 9),\n",
        "                textcoords='offset points',\n",
        "                fontsize=9)\n",
        "plt.tight_layout()\n",
        "plt.savefig('comparacao_chyps_vs_:Random Forest (Baseline).png', dpi=300)\n",
        "plt.show()"
      ],
      "metadata": {
        "colab": {
          "base_uri": "https://localhost:8080/",
          "height": 707
        },
        "id": "BchBJ82s9dx3",
        "outputId": "6bcacc5a-4436-4d97-e489-e09f9a995ed0"
      },
      "execution_count": null,
      "outputs": [
        {
          "output_type": "display_data",
          "data": {
            "text/plain": [
              "<Figure size 1200x700 with 1 Axes>"
            ],
            "image/png": "[encoded data removed]"
          },
          "metadata": {}
        }
      ]
    }
  ]
}
